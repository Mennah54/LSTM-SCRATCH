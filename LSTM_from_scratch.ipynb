{
  "nbformat": 4,
  "nbformat_minor": 0,
  "metadata": {
    "colab": {
      "provenance": [],
      "gpuType": "T4",
      "authorship_tag": "ABX9TyO2pm03HELLf+UA/ugfKDSI",
      "include_colab_link": true
    },
    "kernelspec": {
      "name": "python3",
      "display_name": "Python 3"
    },
    "language_info": {
      "name": "python"
    },
    "accelerator": "GPU"
  },
  "cells": [
    {
      "cell_type": "markdown",
      "metadata": {
        "id": "view-in-github",
        "colab_type": "text"
      },
      "source": [
        "<a href=\"https://colab.research.google.com/github/Mennah54/LSTM-SCRATCH/blob/main/LSTM_from_scratch.ipynb\" target=\"_parent\"><img src=\"https://colab.research.google.com/assets/colab-badge.svg\" alt=\"Open In Colab\"/></a>"
      ]
    },
    {
      "cell_type": "code",
      "source": [
        "import numpy as np\n"
      ],
      "metadata": {
        "id": "ML6LejdjgdSA"
      },
      "execution_count": 25,
      "outputs": []
    },
    {
      "cell_type": "code",
      "execution_count": 26,
      "metadata": {
        "id": "7rL8UIHzgUnO"
      },
      "outputs": [],
      "source": [
        "def sigmoid(x):\n",
        "    return 1 / (1 + np.exp(-x))"
      ]
    },
    {
      "cell_type": "code",
      "source": [
        "def tanh(x):\n",
        "    return np.tanh(x)"
      ],
      "metadata": {
        "id": "BHHRPr_6o_G1"
      },
      "execution_count": 27,
      "outputs": []
    },
    {
      "cell_type": "code",
      "source": [
        "def lstm_step(x_t, h_prev, c_prev, W_f, W_i, W_o, W_c, b_f, b_i, b_o, b_c):\n",
        "    \"\"\"Perform a single LSTM time step.\"\"\"\n",
        "    f_t = sigmoid(W_f * h_prev + x_t + b_f)  # Forget gate\n",
        "    i_t = sigmoid(W_i * h_prev + x_t + b_i)  # Input gate\n",
        "    c_tilde_t = tanh(W_c * h_prev + x_t + b_c)  # Candidate cell state\n",
        "    c_t = f_t * c_prev + i_t * c_tilde_t  # Cell state update\n",
        "    o_t = sigmoid(W_o * h_prev + x_t + b_o)  # Output gate\n",
        "    h_t = o_t * tanh(c_t)  # Hidden state update\n",
        "    return h_t, c_t"
      ],
      "metadata": {
        "id": "_743rMqzpBan"
      },
      "execution_count": 28,
      "outputs": []
    },
    {
      "cell_type": "code",
      "source": [
        "def lstm_predict(sequence, W_f, W_i, W_o, W_c, b_f, b_i, b_o, b_c, W_y, b_y):\n",
        "    \"\"\"Predict the next value in a sequence using LSTM.\"\"\"\n",
        "    h_t, c_t = 0.0, 0.0  # Initial states\n",
        "    for x_t in sequence:\n",
        "        h_t, c_t = lstm_step(x_t, h_t, c_t, W_f, W_i, W_o, W_c, b_f, b_i, b_o, b_c)\n",
        "    return W_y * h_t + b_y  # Final prediction (linear transformation)\n"
      ],
      "metadata": {
        "id": "vcdwvNj1pDy8"
      },
      "execution_count": 29,
      "outputs": []
    },
    {
      "cell_type": "code",
      "source": [
        "# Define arbitrary weights and biases\n",
        "W_f, W_i, W_o, W_c = 0.5, 0.6, 0.7, 0.8\n",
        "b_f, b_i, b_o, b_c = 0.1, 0.2, 0.3, 0.4\n",
        "W_y, b_y = 4.0, 0.0  # Output layer parameters\n",
        "\n",
        "# Input sequence\n",
        "sequence = [1, 2, 3, 4]\n",
        "\n",
        "# Predict the next value\n",
        "y_pred = lstm_predict(sequence, W_f, W_i, W_o, W_c, b_f, b_i, b_o, b_c, W_y, b_y)\n",
        "print(f\"Predicted next value: {y_pred:.2f}\")\n"
      ],
      "metadata": {
        "colab": {
          "base_uri": "https://localhost:8080/"
        },
        "id": "Fuor9DDopHAq",
        "outputId": "800cd27b-dee2-4330-a11e-9b145221002b"
      },
      "execution_count": 31,
      "outputs": [
        {
          "output_type": "stream",
          "name": "stdout",
          "text": [
            "Predicted next value: 3.96\n"
          ]
        }
      ]
    }
  ]
}